{
  "cells": [
    {
      "cell_type": "code",
      "execution_count": null,
      "metadata": {
        "id": "TbvT16li-iLo"
      },
      "outputs": [],
      "source": [
        "import pandas as pd\n",
        "import numpy as np\n",
        "from tqdm.auto import tqdm\n",
        "import seaborn as sns\n",
        "import matplotlib.pyplot as plt\n",
        "from sklearn.metrics import (\n",
        "    accuracy_score,\n",
        "    f1_score,\n",
        ")\n",
        "from sklearn.model_selection import  train_test_split\n",
        "from sklearn.ensemble import RandomForestClassifier, RandomForestRegressor\n",
        "from sklearn.linear_model import LogisticRegression, LinearRegression, Lasso, Ridge, BayesianRidge\n",
        "from sklearn.neighbors import KNeighborsClassifier, KNeighborsRegressor\n",
        "from sklearn.svm import SVC, SVR\n",
        "from sklearn.preprocessing import StandardScaler\n",
        "from sklearn.preprocessing import MinMaxScaler, MaxAbsScaler, RobustScaler\n",
        "from sklearn.preprocessing import Normalizer\n",
        "from sklearn.metrics import precision_recall_fscore_support, mean_squared_error, r2_score\n",
        "\n",
        "from sklearn.model_selection import cross_val_score\n",
        "from sklearn.model_selection import RepeatedKFold\n",
        "\n",
        "from sklearn.ensemble import RandomForestRegressor\n",
        "from sklearn.datasets import make_regression\n",
        "\n",
        "from sklearn.decomposition import PCA\n",
        "\n",
        "import math"
      ]
    },
    {
      "cell_type": "code",
      "source": [
        "from pathlib import Path\n",
        "\n",
        "import numpy as np\n",
        "import pandas as pd\n",
        "from sklearn.metrics import mean_squared_error\n",
        "from sklearn.model_selection import GridSearchCV\n",
        "\n",
        "import lightgbm as lgb"
      ],
      "metadata": {
        "id": "NobTCcK2iYuW"
      },
      "execution_count": null,
      "outputs": []
    },
    {
      "cell_type": "code",
      "source": [
        "from sklearn.neural_network import MLPRegressor\n",
        "from sklearn.datasets import make_regression\n",
        "from sklearn.model_selection import train_test_split"
      ],
      "metadata": {
        "id": "BdZ4ht-FjAJ8"
      },
      "execution_count": null,
      "outputs": []
    },
    {
      "cell_type": "code",
      "source": [
        "import numpy as np\n",
        "import matplotlib.pyplot as plt\n",
        "\n",
        "def plot_predictions(y_test, y_pred, descrip_of_run):\n",
        "    plt.cla()\n",
        "    # Check if the arrays have the same length\n",
        "    if len(y_test) != len(y_pred):\n",
        "        raise ValueError(\"The input arrays must have the same length.\")\n",
        "\n",
        "    # Create a scatter plot\n",
        "    plt.scatter(y_test, y_pred)\n",
        "    plt.plot(y_test, y_test, color='red', linestyle='--')  # Line y_pred = y_test\n",
        "    plt.xlabel('y_test')\n",
        "    plt.ylabel('y_pred')\n",
        "    plt.title('Predicted vs Actual for ' + descrip_of_run)\n",
        "    plt.grid(True)\n",
        "    plt.show()\n",
        "\n",
        "# Example usage\n",
        "# y_test = np.array([1, 2, 3, 4, 5])\n",
        "# y_pred = np.array([1.1, 1.9, 3.2, 3.8, 4.9])\n",
        "\n",
        "# plot_predictions(y_testST, y_predST, 'Lasso with StandardScalar')"
      ],
      "metadata": {
        "id": "JTeIg7Sti2hA"
      },
      "execution_count": null,
      "outputs": []
    },
    {
      "cell_type": "code",
      "source": [
        "df_ml = pd.read_csv(ml_tables_dir + ml_file)\n",
        "df_ml_3week = pd.read_csv(ml_tables_dir + test_ml_file)\n",
        "df_ml.append(df_ml_3week)\n",
        "df_ml.append(df_ml_3week)\n",
        "df_ml = df_ml.drop_duplicates(keep=False)"
      ],
      "metadata": {
        "colab": {
          "base_uri": "https://localhost:8080/"
        },
        "id": "Bojmr_VVe8S1",
        "outputId": "be1dad20-9b53-43ec-f643-392842582b8c"
      },
      "execution_count": null,
      "outputs": [
        {
          "output_type": "stream",
          "name": "stderr",
          "text": [
            "<ipython-input-22-868983262586>:3: FutureWarning: The frame.append method is deprecated and will be removed from pandas in a future version. Use pandas.concat instead.\n",
            "  df_ml.append(df_ml_3week)\n",
            "<ipython-input-22-868983262586>:4: FutureWarning: The frame.append method is deprecated and will be removed from pandas in a future version. Use pandas.concat instead.\n",
            "  df_ml.append(df_ml_3week)\n"
          ]
        }
      ]
    },
    {
      "cell_type": "code",
      "source": [
        "X = df_ml.drop(columns=['yield'])\n",
        "y = df_ml.loc[:,['yield']]\n",
        "y_test_orig = y.copy()\n",
        "X_train, y_train = X, y"
      ],
      "metadata": {
        "id": "R9dgR2rFfndn"
      },
      "execution_count": null,
      "outputs": []
    },
    {
      "cell_type": "code",
      "source": [
        "def read_whole_csv(ml_tables_dir, ml_file, drop_feature=False, shuffle=True):\n",
        "\n",
        "  df_ml = pd.read_csv(ml_tables_dir + ml_file)\n",
        "  X = df_ml.drop(columns=['yield'])\n",
        "  y = df_ml.loc[:,['yield']]\n",
        "  X_train, X_test, y_train, y_test = train_test_split(X, y, test_size=0.2, random_state=0, shuffle=shuffle)\n",
        "\n",
        "  # keeping a copy of y_test, because it may get modified below\n",
        "\n",
        "  if drop_feature:\n",
        "    X_train = X_train.drop(columns=['ruling_party','gdp'])\n",
        "    X_test = X_test.drop(columns=['ruling_party','gdp'])\n",
        "  \n",
        "\n",
        "  return X_train, X_test, y_train, y_test"
      ],
      "metadata": {
        "id": "Kt8kjCmXiVOy"
      },
      "execution_count": null,
      "outputs": []
    },
    {
      "cell_type": "code",
      "source": [
        "def read_test_csv(ml_tables_dir, ml_file):\n",
        "\n",
        "  df_ml = pd.read_csv(ml_tables_dir + ml_file)\n",
        "  X = df_ml.drop(columns=['yield'])\n",
        "  y = df_ml.loc[:,['yield']]\n",
        "\n",
        "  X_test = X\n",
        "  y_test = y\n",
        "\n",
        "  return X_test, y_test"
      ],
      "metadata": {
        "id": "b-FNSrcMi4_D"
      },
      "execution_count": null,
      "outputs": []
    },
    {
      "cell_type": "code",
      "execution_count": null,
      "metadata": {
        "id": "eN5Jfkkf_CQ7"
      },
      "outputs": [],
      "source": [
        "ml_tables_dir = './sample_data/'\n",
        "ml_file = 'ML-TABLESML-table-weekly.csv'\n",
        "X_train, _, y_train, _ = read_whole_csv(ml_tables_dir, ml_file)"
      ]
    },
    {
      "cell_type": "code",
      "source": [
        "test_ml_file = '6w.csv'\n",
        "X_train_3w, X_test_3w, y_train_3w, y_test_3w = read_whole_csv(ml_tables_dir, test_ml_file, shuffle=True)"
      ],
      "metadata": {
        "id": "cx7gUJwASiEX"
      },
      "execution_count": null,
      "outputs": []
    },
    {
      "cell_type": "code",
      "source": [
        "X_train_3w.shape"
      ],
      "metadata": {
        "colab": {
          "base_uri": "https://localhost:8080/"
        },
        "id": "q0sagDFhruAT",
        "outputId": "93b82b2b-55d9-4229-9fd1-10f2a53fb7f3"
      },
      "execution_count": null,
      "outputs": [
        {
          "output_type": "execute_result",
          "data": {
            "text/plain": [
              "(4875, 83)"
            ]
          },
          "metadata": {},
          "execution_count": 79
        }
      ]
    },
    {
      "cell_type": "code",
      "execution_count": null,
      "metadata": {
        "id": "p0o5uYiTa0QS"
      },
      "outputs": [],
      "source": [
        "def min_max_scaler(X_train, X_test, y_train, y_test):\n",
        "  X_train = X_train.drop(columns=['year','state_name','county_name'])\n",
        "  X_test = X_test.drop(columns=['year','state_name','county_name'])\n",
        "\n",
        "  scalerXMM = MinMaxScaler().fit(X_train)\n",
        "  scaleryMM = MinMaxScaler().fit(y_train)\n",
        "\n",
        "  X_trainMM = scalerXMM.transform(X_train)\n",
        "  y_trainMM = scaleryMM.transform(y_train)\n",
        "  X_testMM = scalerXMM.transform(X_test)\n",
        "  y_testMM = scaleryMM.transform(y_test)\n",
        "\n",
        "  return X_trainMM, X_testMM, y_trainMM, y_testMM"
      ]
    },
    {
      "cell_type": "code",
      "source": [
        "X_trainMM, X_testMM, y_trainMM, y_testMM = min_max_scaler(X_train, X_test_3w, y_train, y_test_3w)"
      ],
      "metadata": {
        "id": "jmt7wKJpdeVy"
      },
      "execution_count": null,
      "outputs": []
    },
    {
      "cell_type": "code",
      "source": [
        "X_trainMM, X_testMM, y_trainMM, y_testMM = min_max_scaler(X_train_3w, X_test_3w, y_train_3w, y_test_3w)"
      ],
      "metadata": {
        "id": "4bXgshrTkk66"
      },
      "execution_count": null,
      "outputs": []
    },
    {
      "cell_type": "code",
      "source": [
        "print(X_trainMM.shape)"
      ],
      "metadata": {
        "colab": {
          "base_uri": "https://localhost:8080/"
        },
        "id": "7MmjXNcmqul0",
        "outputId": "4b51f400-f362-47d0-a10c-b445a0d046e0"
      },
      "execution_count": null,
      "outputs": [
        {
          "output_type": "stream",
          "name": "stdout",
          "text": [
            "(4875, 80)\n"
          ]
        }
      ]
    },
    {
      "cell_type": "code",
      "source": [
        "y_pred_gbm = lightGBM(X_trainMM, y_trainMM, X_testMM, y_testMM) #train: table-3w test:3w"
      ],
      "metadata": {
        "colab": {
          "base_uri": "https://localhost:8080/"
        },
        "id": "R5AiF4WLd_Wv",
        "outputId": "37efb4a1-3428-4608-f5cb-1950ff449575"
      },
      "execution_count": null,
      "outputs": [
        {
          "output_type": "stream",
          "name": "stderr",
          "text": [
            "/usr/local/lib/python3.10/dist-packages/sklearn/utils/validation.py:1143: DataConversionWarning: A column-vector y was passed when a 1d array was expected. Please change the shape of y to (n_samples, ), for example using ravel().\n",
            "  y = column_or_1d(y, warn=True)\n",
            "/usr/local/lib/python3.10/dist-packages/lightgbm/basic.py:179: UserWarning: Converting column-vector to 1d array\n",
            "  _log_warning('Converting column-vector to 1d array')\n"
          ]
        },
        {
          "output_type": "stream",
          "name": "stdout",
          "text": [
            "Training until validation scores don't improve for 5 rounds\n",
            "Early stopping, best iteration is:\n",
            "[189]\tvalid_0's rmse: 0.0642249\tvalid_0's l2: 0.00412484\n",
            "0.06422490997225899\n",
            "0.12844981994451798\n",
            "0.6734412195923201\n"
          ]
        }
      ]
    },
    {
      "cell_type": "code",
      "source": [
        "plot_predictions(y_testMM, y_pred_gbm, 'LightGBM with MinMaxScalar of 6Week data') #train: table-3w test:3w"
      ],
      "metadata": {
        "colab": {
          "base_uri": "https://localhost:8080/",
          "height": 472
        },
        "id": "F0_Yn4jaeU5q",
        "outputId": "1bdc652d-f467-47f4-f16e-7a474e973c4c"
      },
      "execution_count": null,
      "outputs": [
        {
          "output_type": "display_data",
          "data": {
            "text/plain": [
              "<Figure size 640x480 with 1 Axes>"
            ],
            "image/png": "[encoded data removed]"
          },
          "metadata": {}
        }
      ]
    },
    {
      "cell_type": "code",
      "source": [
        "X_trainMM_weekly, X_testMM_weekly, y_trainMM_weekly, y_testMM_weekly = min_max_scaler(X_train_weekly,\n",
        "                                                                                      X_test_weekly, y_train_weekly, y_test_weekly)"
      ],
      "metadata": {
        "id": "a7luUeEMRo2w"
      },
      "execution_count": null,
      "outputs": []
    },
    {
      "cell_type": "code",
      "source": [
        "X_trainMM, X_testMM, y_trainMM, y_testMM = min_max_scaler(X_train, X_test, y_train, y_test)"
      ],
      "metadata": {
        "id": "zVF2R6k3hTXb"
      },
      "execution_count": null,
      "outputs": []
    },
    {
      "cell_type": "code",
      "execution_count": null,
      "metadata": {
        "colab": {
          "base_uri": "https://localhost:8080/"
        },
        "id": "STmVYxkHbbj7",
        "outputId": "2897fa17-310a-4011-a0b8-49704d29bee6"
      },
      "outputs": [
        {
          "output_type": "stream",
          "name": "stderr",
          "text": [
            "<ipython-input-8-4418a6484aff>:3: UserWarning: With alpha=0, this algorithm does not converge well. You are advised to use the LinearRegression estimator\n",
            "  lassoMM.fit(X_trainMM, y_trainMM)\n",
            "/usr/local/lib/python3.10/dist-packages/sklearn/linear_model/_coordinate_descent.py:631: UserWarning: Coordinate descent with no regularization may lead to unexpected results and is discouraged.\n",
            "  model = cd_fast.enet_coordinate_descent(\n"
          ]
        },
        {
          "output_type": "stream",
          "name": "stdout",
          "text": [
            "0.08447352873653276\n",
            "0.16894705747306552\n",
            "0.4350687096802267\n"
          ]
        },
        {
          "output_type": "stream",
          "name": "stderr",
          "text": [
            "/usr/local/lib/python3.10/dist-packages/sklearn/linear_model/_coordinate_descent.py:631: ConvergenceWarning: Objective did not converge. You might want to increase the number of iterations, check the scale of the features or consider increasing regularisation. Duality gap: 1.855e+01, tolerance: 6.733e-03 Linear regression models with null weight for the l1 regularization term are more efficiently fitted using one of the solvers implemented in sklearn.linear_model.Ridge/RidgeCV instead.\n",
            "  model = cd_fast.enet_coordinate_descent(\n"
          ]
        }
      ],
      "source": [
        "y_predMM = lasso_regression(X_trainMM, X_testMM, y_trainMM, y_testMM)"
      ]
    },
    {
      "cell_type": "code",
      "source": [
        "def lasso_regression(X_trainMM, X_testMM, y_trainMM, y_testMM):\n",
        "  lassoMM = Lasso(alpha=0)\n",
        "  lassoMM.fit(X_trainMM, y_trainMM)\n",
        "  y_predMM = lassoMM.predict(X_testMM)\n",
        "  rmseMM = math.sqrt(mean_squared_error(y_testMM, y_predMM))\n",
        "  rrmseMM = rmseMM / (0.5)\n",
        "  r2MM = r2_score(y_testMM, y_predMM)\n",
        "  print(rmseMM)\n",
        "  print(rrmseMM)\n",
        "  print(r2MM)\n",
        "  return y_predMM"
      ],
      "metadata": {
        "id": "c9yX86aLR0dl"
      },
      "execution_count": null,
      "outputs": []
    },
    {
      "cell_type": "code",
      "source": [
        "def random_forest(X_trainMM, X_testMM, y_trainMM, y_testMM, max_depth=-30):\n",
        "  # random forest regressor\n",
        "  regrMM = RandomForestRegressor(max_depth=max_depth, random_state=0)\n",
        "  #   with depth 2\n",
        "  #      0.11349253447526553\n",
        "  #      0.22698506895053105\n",
        "  #      0.2773587277559947\n",
        "  # regrMM = RandomForestRegressor(max_depth=10, random_state=0)\n",
        "  #   with depth 10:\n",
        "  #      0.06593145947060583\n",
        "  #      0.13186291894121166\n",
        "  #      0.7561214796081714\n",
        "  # regrMM = RandomForestRegressor(max_depth=20, random_state=0)\n",
        "  #   with depth 20:\n",
        "  #      0.06060039414793919\n",
        "  #      0.12120078829587838\n",
        "  #      0.7939659164434344\n",
        "\n",
        "  # for some reason, need to use y_trainMM.ravel() rather than simply y_trainMM\n",
        "  regrMM.fit(X_trainMM, y_trainMM.ravel())\n",
        "\n",
        "  regr_y_predMM = regrMM.predict(X_testMM)\n",
        "  rmseMM = math.sqrt(mean_squared_error(y_testMM, regr_y_predMM))\n",
        "  rrmseMM = rmseMM / (0.5)\n",
        "  r2MM = r2_score(y_testMM, regr_y_predMM)\n",
        "  print(rmseMM)\n",
        "  print(rrmseMM)\n",
        "  print(r2MM)\n",
        "\n",
        "  return regr_y_predMM"
      ],
      "metadata": {
        "id": "PwUbqgBJilLw"
      },
      "execution_count": null,
      "outputs": []
    },
    {
      "cell_type": "code",
      "source": [
        "def lightGBM(X_trainMM, y_trainMM, X_testMM, y_testMM):\n",
        "  gbm = lgb.LGBMRegressor(num_leaves=31,\n",
        "                          learning_rate=0.05,\n",
        "                          n_estimators=200)\n",
        "  gbm.fit(X_trainMM, y_trainMM,\n",
        "          eval_set=[(X_testMM, y_testMM)],\n",
        "          eval_metric='rmse',\n",
        "          callbacks=[lgb.early_stopping(5)])\n",
        "  y_predMM = gbm.predict(X_testMM)\n",
        "  rmseMM = math.sqrt(mean_squared_error(y_testMM, y_predMM))\n",
        "  rrmseMM = rmseMM / (0.5)\n",
        "  r2MM = r2_score(y_testMM, y_predMM)\n",
        "  print(rmseMM)\n",
        "  print(rrmseMM)\n",
        "  print(r2MM)\n",
        "  return y_predMM"
      ],
      "metadata": {
        "id": "KD7SHYq9i7nG"
      },
      "execution_count": null,
      "outputs": []
    },
    {
      "cell_type": "code",
      "source": [
        "def mlp_regression(X_trainMM, y_trainMM, X_testMM, y_testMM):\n",
        "  regr = MLPRegressor(hidden_layer_sizes=(300, 100, 50), batch_size=500, random_state=0, max_iter=300,\n",
        "                    learning_rate_init=0.001, early_stopping=True).fit(X_trainMM, y_trainMM)\n",
        "  y_predMM = regr.predict(X_testMM)\n",
        "  rmseMM = math.sqrt(mean_squared_error(y_testMM, y_predMM))\n",
        "  rrmseMM = rmseMM / (0.5)\n",
        "  r2MM = r2_score(y_testMM, y_predMM)\n",
        "  print(rmseMM)\n",
        "  print(rrmseMM)\n",
        "  print(r2MM)\n",
        "  return y_predMM"
      ],
      "metadata": {
        "id": "63h370-SjEsB"
      },
      "execution_count": null,
      "outputs": []
    },
    {
      "cell_type": "code",
      "source": [
        "y_predMM_weekly = lasso_regression(X_trainMM_weekly, X_testMM_weekly, y_trainMM_weekly, y_testMM_weekly)"
      ],
      "metadata": {
        "colab": {
          "base_uri": "https://localhost:8080/"
        },
        "id": "F1uW7We3SIm6",
        "outputId": "1aff379f-8e0d-47f2-9eb5-480fc95de841"
      },
      "execution_count": null,
      "outputs": [
        {
          "output_type": "stream",
          "name": "stderr",
          "text": [
            "<ipython-input-22-4418a6484aff>:3: UserWarning: With alpha=0, this algorithm does not converge well. You are advised to use the LinearRegression estimator\n",
            "  lassoMM.fit(X_trainMM, y_trainMM)\n",
            "/usr/local/lib/python3.10/dist-packages/sklearn/linear_model/_coordinate_descent.py:631: UserWarning: Coordinate descent with no regularization may lead to unexpected results and is discouraged.\n",
            "  model = cd_fast.enet_coordinate_descent(\n"
          ]
        },
        {
          "output_type": "stream",
          "name": "stdout",
          "text": [
            "0.07193227353128091\n",
            "0.14386454706256183\n",
            "0.5903604020335318\n"
          ]
        },
        {
          "output_type": "stream",
          "name": "stderr",
          "text": [
            "/usr/local/lib/python3.10/dist-packages/sklearn/linear_model/_coordinate_descent.py:631: ConvergenceWarning: Objective did not converge. You might want to increase the number of iterations, check the scale of the features or consider increasing regularisation. Duality gap: 1.055e+01, tolerance: 6.733e-03 Linear regression models with null weight for the l1 regularization term are more efficiently fitted using one of the solvers implemented in sklearn.linear_model.Ridge/RidgeCV instead.\n",
            "  model = cd_fast.enet_coordinate_descent(\n"
          ]
        }
      ]
    },
    {
      "cell_type": "code",
      "execution_count": null,
      "metadata": {
        "colab": {
          "base_uri": "https://localhost:8080/",
          "height": 74
        },
        "id": "oqA0L-9T8veR",
        "outputId": "a6ed82a0-443a-4a24-debb-95531850af09"
      },
      "outputs": [
        {
          "data": {
            "text/html": [
              "<style>#sk-container-id-7 {color: black;background-color: white;}#sk-container-id-7 pre{padding: 0;}#sk-container-id-7 div.sk-toggleable {background-color: white;}#sk-container-id-7 label.sk-toggleable__label {cursor: pointer;display: block;width: 100%;margin-bottom: 0;padding: 0.3em;box-sizing: border-box;text-align: center;}#sk-container-id-7 label.sk-toggleable__label-arrow:before {content: \"▸\";float: left;margin-right: 0.25em;color: #696969;}#sk-container-id-7 label.sk-toggleable__label-arrow:hover:before {color: black;}#sk-container-id-7 div.sk-estimator:hover label.sk-toggleable__label-arrow:before {color: black;}#sk-container-id-7 div.sk-toggleable__content {max-height: 0;max-width: 0;overflow: hidden;text-align: left;background-color: #f0f8ff;}#sk-container-id-7 div.sk-toggleable__content pre {margin: 0.2em;color: black;border-radius: 0.25em;background-color: #f0f8ff;}#sk-container-id-7 input.sk-toggleable__control:checked~div.sk-toggleable__content {max-height: 200px;max-width: 100%;overflow: auto;}#sk-container-id-7 input.sk-toggleable__control:checked~label.sk-toggleable__label-arrow:before {content: \"▾\";}#sk-container-id-7 div.sk-estimator input.sk-toggleable__control:checked~label.sk-toggleable__label {background-color: #d4ebff;}#sk-container-id-7 div.sk-label input.sk-toggleable__control:checked~label.sk-toggleable__label {background-color: #d4ebff;}#sk-container-id-7 input.sk-hidden--visually {border: 0;clip: rect(1px 1px 1px 1px);clip: rect(1px, 1px, 1px, 1px);height: 1px;margin: -1px;overflow: hidden;padding: 0;position: absolute;width: 1px;}#sk-container-id-7 div.sk-estimator {font-family: monospace;background-color: #f0f8ff;border: 1px dotted black;border-radius: 0.25em;box-sizing: border-box;margin-bottom: 0.5em;}#sk-container-id-7 div.sk-estimator:hover {background-color: #d4ebff;}#sk-container-id-7 div.sk-parallel-item::after {content: \"\";width: 100%;border-bottom: 1px solid gray;flex-grow: 1;}#sk-container-id-7 div.sk-label:hover label.sk-toggleable__label {background-color: #d4ebff;}#sk-container-id-7 div.sk-serial::before {content: \"\";position: absolute;border-left: 1px solid gray;box-sizing: border-box;top: 0;bottom: 0;left: 50%;z-index: 0;}#sk-container-id-7 div.sk-serial {display: flex;flex-direction: column;align-items: center;background-color: white;padding-right: 0.2em;padding-left: 0.2em;position: relative;}#sk-container-id-7 div.sk-item {position: relative;z-index: 1;}#sk-container-id-7 div.sk-parallel {display: flex;align-items: stretch;justify-content: center;background-color: white;position: relative;}#sk-container-id-7 div.sk-item::before, #sk-container-id-7 div.sk-parallel-item::before {content: \"\";position: absolute;border-left: 1px solid gray;box-sizing: border-box;top: 0;bottom: 0;left: 50%;z-index: -1;}#sk-container-id-7 div.sk-parallel-item {display: flex;flex-direction: column;z-index: 1;position: relative;background-color: white;}#sk-container-id-7 div.sk-parallel-item:first-child::after {align-self: flex-end;width: 50%;}#sk-container-id-7 div.sk-parallel-item:last-child::after {align-self: flex-start;width: 50%;}#sk-container-id-7 div.sk-parallel-item:only-child::after {width: 0;}#sk-container-id-7 div.sk-dashed-wrapped {border: 1px dashed gray;margin: 0 0.4em 0.5em 0.4em;box-sizing: border-box;padding-bottom: 0.4em;background-color: white;}#sk-container-id-7 div.sk-label label {font-family: monospace;font-weight: bold;display: inline-block;line-height: 1.2em;}#sk-container-id-7 div.sk-label-container {text-align: center;}#sk-container-id-7 div.sk-container {/* jupyter's `normalize.less` sets `[hidden] { display: none; }` but bootstrap.min.css set `[hidden] { display: none !important; }` so we also need the `!important` here to be able to override the default hidden behavior on the sphinx rendered scikit-learn.org. See: https://github.com/scikit-learn/scikit-learn/issues/21755 */display: inline-block !important;position: relative;}#sk-container-id-7 div.sk-text-repr-fallback {display: none;}</style><div id=\"sk-container-id-7\" class=\"sk-top-container\"><div class=\"sk-text-repr-fallback\"><pre>PCA(n_components=2, svd_solver=&#x27;full&#x27;)</pre><b>In a Jupyter environment, please rerun this cell to show the HTML representation or trust the notebook. <br />On GitHub, the HTML representation is unable to render, please try loading this page with nbviewer.org.</b></div><div class=\"sk-container\" hidden><div class=\"sk-item\"><div class=\"sk-estimator sk-toggleable\"><input class=\"sk-toggleable__control sk-hidden--visually\" id=\"sk-estimator-id-7\" type=\"checkbox\" checked><label for=\"sk-estimator-id-7\" class=\"sk-toggleable__label sk-toggleable__label-arrow\">PCA</label><div class=\"sk-toggleable__content\"><pre>PCA(n_components=2, svd_solver=&#x27;full&#x27;)</pre></div></div></div></div></div>"
            ],
            "text/plain": [
              "PCA(n_components=2, svd_solver='full')"
            ]
          },
          "execution_count": 85,
          "metadata": {},
          "output_type": "execute_result"
        }
      ],
      "source": [
        "pca = PCA(n_components=2, svd_solver='full')\n",
        "pca.fit(X_trainMM)"
      ]
    },
    {
      "cell_type": "code",
      "execution_count": null,
      "metadata": {
        "id": "BVY9ZLWT92-p"
      },
      "outputs": [],
      "source": []
    },
    {
      "cell_type": "code",
      "source": [],
      "metadata": {
        "id": "-7jgMvuP0R9a"
      },
      "execution_count": null,
      "outputs": []
    },
    {
      "cell_type": "code",
      "execution_count": null,
      "metadata": {
        "id": "vWaIXzbK8kzN"
      },
      "outputs": [],
      "source": []
    },
    {
      "cell_type": "code",
      "source": [],
      "metadata": {
        "id": "5XMU1q1S2bP8"
      },
      "execution_count": null,
      "outputs": []
    }
  ],
  "metadata": {
    "accelerator": "GPU",
    "colab": {
      "provenance": []
    },
    "kernelspec": {
      "display_name": "Python 3",
      "name": "python3"
    },
    "language_info": {
      "name": "python"
    }
  },
  "nbformat": 4,
  "nbformat_minor": 0
}